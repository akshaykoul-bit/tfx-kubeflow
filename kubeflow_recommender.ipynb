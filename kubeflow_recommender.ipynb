{
  "nbformat": 4,
  "nbformat_minor": 0,
  "metadata": {
    "colab": {
      "name": "kubeflow_recommender.ipynb",
      "provenance": [],
      "collapsed_sections": [],
      "authorship_tag": "ABX9TyPsq2u2ysuP0JNY0XEFaeI7",
      "include_colab_link": true
    },
    "kernelspec": {
      "name": "python3",
      "display_name": "Python 3"
    },
    "language_info": {
      "name": "python"
    }
  },
  "cells": [
    {
      "cell_type": "markdown",
      "metadata": {
        "id": "view-in-github",
        "colab_type": "text"
      },
      "source": [
        "<a href=\"https://colab.research.google.com/github/akshaykoul-bit/tfx-kubeflow/blob/tfrecommender/kubeflow_recommender.ipynb\" target=\"_parent\"><img src=\"https://colab.research.google.com/assets/colab-badge.svg\" alt=\"Open In Colab\"/></a>"
      ]
    },
    {
      "cell_type": "markdown",
      "source": [
        "# Install kubeflow"
      ],
      "metadata": {
        "id": "LeImWYFjxy_w"
      }
    },
    {
      "cell_type": "code",
      "execution_count": null,
      "metadata": {
        "colab": {
          "base_uri": "https://localhost:8080/"
        },
        "id": "cDgnA6UcxjVt",
        "outputId": "78a37d60-405e-44a6-e8ee-2c3718e72b42"
      },
      "outputs": [
        {
          "output_type": "stream",
          "name": "stdout",
          "text": [
            "Requirement already satisfied: kfp in /usr/local/lib/python3.7/dist-packages (1.8.11)\n",
            "Requirement already satisfied: cloudpickle<3,>=2.0.0 in /usr/local/lib/python3.7/dist-packages (from kfp) (2.0.0)\n",
            "Requirement already satisfied: click<9,>=7.1.2 in /usr/local/lib/python3.7/dist-packages (from kfp) (7.1.2)\n",
            "Requirement already satisfied: typer<1.0,>=0.3.2 in /usr/local/lib/python3.7/dist-packages (from kfp) (0.4.0)\n",
            "Requirement already satisfied: tabulate<1,>=0.8.6 in /usr/local/lib/python3.7/dist-packages (from kfp) (0.8.9)\n",
            "Requirement already satisfied: kfp-pipeline-spec<0.2.0,>=0.1.13 in /usr/local/lib/python3.7/dist-packages (from kfp) (0.1.13)\n",
            "Requirement already satisfied: PyYAML<6,>=5.3 in /usr/local/lib/python3.7/dist-packages (from kfp) (5.4.1)\n",
            "Requirement already satisfied: fire<1,>=0.3.1 in /usr/local/lib/python3.7/dist-packages (from kfp) (0.4.0)\n",
            "Requirement already satisfied: kfp-server-api<2.0.0,>=1.1.2 in /usr/local/lib/python3.7/dist-packages (from kfp) (1.7.1)\n",
            "Requirement already satisfied: absl-py<2,>=0.9 in /usr/local/lib/python3.7/dist-packages (from kfp) (1.0.0)\n",
            "Requirement already satisfied: docstring-parser<1,>=0.7.3 in /usr/local/lib/python3.7/dist-packages (from kfp) (0.13)\n",
            "Requirement already satisfied: uritemplate<4,>=3.0.1 in /usr/local/lib/python3.7/dist-packages (from kfp) (3.0.1)\n",
            "Requirement already satisfied: strip-hints<1,>=0.1.8 in /usr/local/lib/python3.7/dist-packages (from kfp) (0.1.10)\n",
            "Requirement already satisfied: jsonschema<4,>=3.0.1 in /usr/local/lib/python3.7/dist-packages (from kfp) (3.2.0)\n",
            "Requirement already satisfied: protobuf<4,>=3.13.0 in /usr/local/lib/python3.7/dist-packages (from kfp) (3.17.3)\n",
            "Requirement already satisfied: google-api-python-client<2,>=1.7.8 in /usr/local/lib/python3.7/dist-packages (from kfp) (1.12.10)\n",
            "Requirement already satisfied: requests-toolbelt<1,>=0.8.0 in /usr/local/lib/python3.7/dist-packages (from kfp) (0.9.1)\n",
            "Requirement already satisfied: google-cloud-storage<2,>=1.20.0 in /usr/local/lib/python3.7/dist-packages (from kfp) (1.44.0)\n",
            "Requirement already satisfied: kubernetes<19,>=8.0.0 in /usr/local/lib/python3.7/dist-packages (from kfp) (18.20.0)\n",
            "Requirement already satisfied: typing-extensions<4,>=3.7.4 in /usr/local/lib/python3.7/dist-packages (from kfp) (3.10.0.2)\n",
            "Requirement already satisfied: google-auth<2,>=1.6.1 in /usr/local/lib/python3.7/dist-packages (from kfp) (1.35.0)\n",
            "Requirement already satisfied: pydantic<2,>=1.8.2 in /usr/local/lib/python3.7/dist-packages (from kfp) (1.9.0)\n",
            "Requirement already satisfied: Deprecated<2,>=1.2.7 in /usr/local/lib/python3.7/dist-packages (from kfp) (1.2.13)\n",
            "Requirement already satisfied: six in /usr/local/lib/python3.7/dist-packages (from absl-py<2,>=0.9->kfp) (1.15.0)\n",
            "Requirement already satisfied: wrapt<2,>=1.10 in /usr/local/lib/python3.7/dist-packages (from Deprecated<2,>=1.2.7->kfp) (1.13.3)\n",
            "Requirement already satisfied: termcolor in /usr/local/lib/python3.7/dist-packages (from fire<1,>=0.3.1->kfp) (1.1.0)\n",
            "Requirement already satisfied: google-api-core<3dev,>=1.21.0 in /usr/local/lib/python3.7/dist-packages (from google-api-python-client<2,>=1.7.8->kfp) (2.5.0)\n",
            "Requirement already satisfied: httplib2<1dev,>=0.15.0 in /usr/local/lib/python3.7/dist-packages (from google-api-python-client<2,>=1.7.8->kfp) (0.17.4)\n",
            "Requirement already satisfied: google-auth-httplib2>=0.0.3 in /usr/local/lib/python3.7/dist-packages (from google-api-python-client<2,>=1.7.8->kfp) (0.0.4)\n",
            "Requirement already satisfied: requests<3.0.0dev,>=2.18.0 in /usr/local/lib/python3.7/dist-packages (from google-api-core<3dev,>=1.21.0->google-api-python-client<2,>=1.7.8->kfp) (2.23.0)\n",
            "Requirement already satisfied: googleapis-common-protos<2.0dev,>=1.52.0 in /usr/local/lib/python3.7/dist-packages (from google-api-core<3dev,>=1.21.0->google-api-python-client<2,>=1.7.8->kfp) (1.54.0)\n",
            "Requirement already satisfied: cachetools<5.0,>=2.0.0 in /usr/local/lib/python3.7/dist-packages (from google-auth<2,>=1.6.1->kfp) (4.2.4)\n",
            "Requirement already satisfied: rsa<5,>=3.1.4 in /usr/local/lib/python3.7/dist-packages (from google-auth<2,>=1.6.1->kfp) (4.8)\n",
            "Requirement already satisfied: pyasn1-modules>=0.2.1 in /usr/local/lib/python3.7/dist-packages (from google-auth<2,>=1.6.1->kfp) (0.2.8)\n",
            "Requirement already satisfied: setuptools>=40.3.0 in /usr/local/lib/python3.7/dist-packages (from google-auth<2,>=1.6.1->kfp) (57.4.0)\n",
            "Requirement already satisfied: google-cloud-core<3.0dev,>=1.6.0 in /usr/local/lib/python3.7/dist-packages (from google-cloud-storage<2,>=1.20.0->kfp) (2.2.2)\n",
            "Requirement already satisfied: google-resumable-media<3.0dev,>=1.3.0 in /usr/local/lib/python3.7/dist-packages (from google-cloud-storage<2,>=1.20.0->kfp) (2.1.0)\n",
            "Requirement already satisfied: google-crc32c<2.0dev,>=1.0 in /usr/local/lib/python3.7/dist-packages (from google-resumable-media<3.0dev,>=1.3.0->google-cloud-storage<2,>=1.20.0->kfp) (1.3.0)\n",
            "Requirement already satisfied: importlib-metadata in /usr/local/lib/python3.7/dist-packages (from jsonschema<4,>=3.0.1->kfp) (4.10.1)\n",
            "Requirement already satisfied: attrs>=17.4.0 in /usr/local/lib/python3.7/dist-packages (from jsonschema<4,>=3.0.1->kfp) (21.4.0)\n",
            "Requirement already satisfied: pyrsistent>=0.14.0 in /usr/local/lib/python3.7/dist-packages (from jsonschema<4,>=3.0.1->kfp) (0.18.1)\n",
            "Requirement already satisfied: python-dateutil in /usr/local/lib/python3.7/dist-packages (from kfp-server-api<2.0.0,>=1.1.2->kfp) (2.8.2)\n",
            "Requirement already satisfied: certifi in /usr/local/lib/python3.7/dist-packages (from kfp-server-api<2.0.0,>=1.1.2->kfp) (2021.10.8)\n",
            "Requirement already satisfied: urllib3>=1.15 in /usr/local/lib/python3.7/dist-packages (from kfp-server-api<2.0.0,>=1.1.2->kfp) (1.24.3)\n",
            "Requirement already satisfied: websocket-client!=0.40.0,!=0.41.*,!=0.42.*,>=0.32.0 in /usr/local/lib/python3.7/dist-packages (from kubernetes<19,>=8.0.0->kfp) (1.2.3)\n",
            "Requirement already satisfied: requests-oauthlib in /usr/local/lib/python3.7/dist-packages (from kubernetes<19,>=8.0.0->kfp) (1.3.1)\n",
            "Requirement already satisfied: pyasn1<0.5.0,>=0.4.6 in /usr/local/lib/python3.7/dist-packages (from pyasn1-modules>=0.2.1->google-auth<2,>=1.6.1->kfp) (0.4.8)\n",
            "Requirement already satisfied: idna<3,>=2.5 in /usr/local/lib/python3.7/dist-packages (from requests<3.0.0dev,>=2.18.0->google-api-core<3dev,>=1.21.0->google-api-python-client<2,>=1.7.8->kfp) (2.10)\n",
            "Requirement already satisfied: chardet<4,>=3.0.2 in /usr/local/lib/python3.7/dist-packages (from requests<3.0.0dev,>=2.18.0->google-api-core<3dev,>=1.21.0->google-api-python-client<2,>=1.7.8->kfp) (3.0.4)\n",
            "Requirement already satisfied: wheel in /usr/local/lib/python3.7/dist-packages (from strip-hints<1,>=0.1.8->kfp) (0.37.1)\n",
            "Requirement already satisfied: zipp>=0.5 in /usr/local/lib/python3.7/dist-packages (from importlib-metadata->jsonschema<4,>=3.0.1->kfp) (3.7.0)\n",
            "Requirement already satisfied: oauthlib>=3.0.0 in /usr/local/lib/python3.7/dist-packages (from requests-oauthlib->kubernetes<19,>=8.0.0->kfp) (3.2.0)\n"
          ]
        }
      ],
      "source": [
        "# KFP\n",
        "!pip install --upgrade kfp"
      ]
    },
    {
      "cell_type": "markdown",
      "source": [
        "# Import libraries"
      ],
      "metadata": {
        "id": "x9Tr1XvTyFtF"
      }
    },
    {
      "cell_type": "code",
      "source": [
        "import kfp\n",
        "from kfp.v2 import dsl\n",
        "from kfp.v2.dsl import component\n",
        "from kfp.v2.dsl import (\n",
        "    Input,\n",
        "    InputPath,\n",
        "    Output,\n",
        "    Artifact,\n",
        "    Dataset,\n",
        "    Model,\n",
        "    Metrics\n",
        ")"
      ],
      "metadata": {
        "id": "saQvKsd1xwXj"
      },
      "execution_count": null,
      "outputs": []
    },
    {
      "cell_type": "markdown",
      "source": [
        "# **Download data from tfds and select features of interest**"
      ],
      "metadata": {
        "id": "_ZNY32JsCdze"
      }
    },
    {
      "cell_type": "code",
      "source": [
        "@component(\n",
        "    packages_to_install=[\"tensorflow\",\"tensorflow-datasets\"],\n",
        "    output_component_file=\"download_data_component.yaml\"\n",
        ")\n",
        "def download_data(ratingstf_url:str,moviestf_url:str, output_ratingstf: Output[Artifact],output_moviestf: Output[Artifact]):\n",
        "\n",
        "  import tensorflow as tf\n",
        "  import tensorflow_datasets as tfds\n",
        "\n",
        "  ratingstf = tfds.load(f'{ratingstf_url}', split=\"train\")\n",
        "  moviestf = tfds.load(f'{moviestf_url}', split=\"train\")\n",
        "\n",
        "  # select main features of interest\n",
        "  ratingstf = ratingstf.map(lambda x: {\n",
        "      \"movie_title\": x[\"movie_title\"],\n",
        "      \"user_id\": x[\"user_id\"],\n",
        "      \"user_rating\": x[\"user_rating\"],\n",
        "  })\n",
        "  moviestf = moviestf.map(lambda x: x[\"movie_title\"])\n",
        "\n",
        "  tf.data.experimental.save(ratingstf, output_ratingstf.path)\n",
        "  tf.data.experimental.save(moviestf, output_moviestf.path)\n"
      ],
      "metadata": {
        "id": "RrQipBCNyJoN"
      },
      "execution_count": null,
      "outputs": []
    },
    {
      "cell_type": "markdown",
      "source": [
        "## **Split Data into train and test and create unique movie ids and titles artifact**"
      ],
      "metadata": {
        "id": "NilCYw2wN-wI"
      }
    },
    {
      "cell_type": "code",
      "source": [
        "@component(\n",
        "    packages_to_install=[\"tensorflow\",\"tensorflow-datasets\",\"numpy\"],\n",
        "    output_component_file=\"split_data_component.yaml\"\n",
        ")\n",
        "def split_data(input_ratingstf:Input[Artifact], input_moviestf: Input[Artifact],output_train: Output[Artifact],output_test: Output[Artifact],\n",
        "                  output_uq_movttls: Output[Artifact],output_uq_usids: Output[Artifact]):\n",
        "  \n",
        "  import numpy as np\n",
        "  import tensorflow as tf\n",
        "  import tensorflow_datasets as tfds\n",
        "  import pickle\n",
        "\n",
        "  ratingstf = tf.data.experimental.load(input_ratingstf.path)\n",
        "  moviestf = tf.data.experimental.load(input_moviestf.path)\n",
        "\n",
        "  tf.random.set_seed(11)\n",
        "  shuffled = ratingstf.shuffle(100_000, seed=11, reshuffle_each_iteration=False)\n",
        "\n",
        "  train = shuffled.take(80_000)\n",
        "  test = shuffled.skip(80_000).take(20_000)\n",
        "\n",
        "  movie_titles = moviestf.batch(1_000)\n",
        "  user_ids = ratingstf.batch(1_000_000).map(lambda x: x[\"user_id\"])\n",
        "\n",
        "  unique_movie_titles = np.unique(np.concatenate(list(movie_titles)))\n",
        "  unique_user_ids = np.unique(np.concatenate(list(user_ids)))\n",
        "\n",
        "  tf.data.experimental.save(train, output_train.path)\n",
        "  tf.data.experimental.save(test, output_test.path)\n",
        "  with open(output_uq_movttls.path, \"wb\") as file:\n",
        "    pickle.dump(unique_movie_titles, file)\n",
        "  with open(output_uq_usids.path, \"wb\") as file:\n",
        "    pickle.dump(unique_user_ids, file)\n",
        "  # pickle.dump(movie_titles, output_uq_movttls.path)\n",
        "  # pickle.dump(user_ids, output_uq_usids.path)"
      ],
      "metadata": {
        "id": "VRblKsfOKU4j"
      },
      "execution_count": null,
      "outputs": []
    },
    {
      "cell_type": "markdown",
      "source": [
        "## **Build and train model**"
      ],
      "metadata": {
        "id": "qeOTx84DOUok"
      }
    },
    {
      "cell_type": "code",
      "source": [
        "@component(\n",
        "    packages_to_install=[\"tensorflow\",\"tensorflow-recommenders\",\"numpy\"],\n",
        "    output_component_file=\"build_and_train_model_component.yaml\"\n",
        ")\n",
        "def build_and_train_model(input_moviestf:Input[Artifact],input_train:Input[Artifact], input_test: Input[Artifact],input_movie_titles:Input[Artifact], input_user_ids: Input[Artifact],output_metrics: Output[Artifact]):\n",
        "  \n",
        "  import numpy as np\n",
        "  import tensorflow as tf\n",
        "  import tensorflow_recommenders as tfrs\n",
        "  import pickle\n",
        "  from typing import Dict, Text\n",
        "\n",
        "  moviestf = tf.data.experimental.load(input_moviestf.path)\n",
        "  train = tf.data.experimental.load(input_train.path)\n",
        "  test = tf.data.experimental.load(input_test.path)\n",
        "  cached_train = train.shuffle(100_000).batch(8192).cache()\n",
        "  cached_test = test.batch(4096).cache()\n",
        "  # cached_train = train.shuffle(100_000).batch(8192)\n",
        "  \n",
        "  with open(input_movie_titles.path, \"rb\") as file:\n",
        "    unique_movie_titles = pickle.load(file)\n",
        "  with open(input_user_ids.path, \"rb\") as file:\n",
        "    unique_user_ids = pickle.load(file)\n",
        "\n",
        "  # unique_movie_titles = pickle.load(input_movie_titles.path)\n",
        "  # unique_user_ids = pickle.load(input_user_ids.path)\n",
        "  \n",
        "  class MovielensModel(tfrs.models.Model):\n",
        "\n",
        "    def __init__(self, rating_weight: float, retrieval_weight: float) -> None:\n",
        "      super().__init__()\n",
        "\n",
        "      embedding_dimension = 32\n",
        "\n",
        "      # User and movie models.\n",
        "      self.movie_model: tf.keras.layers.Layer = tf.keras.Sequential([\n",
        "        tf.keras.layers.StringLookup(\n",
        "          vocabulary=unique_movie_titles, mask_token=None),\n",
        "        tf.keras.layers.Embedding(len(unique_movie_titles) + 1, embedding_dimension)\n",
        "      ])\n",
        "      self.user_model: tf.keras.layers.Layer = tf.keras.Sequential([\n",
        "        tf.keras.layers.StringLookup(\n",
        "          vocabulary=unique_user_ids, mask_token=None),\n",
        "        tf.keras.layers.Embedding(len(unique_user_ids) + 1, embedding_dimension)\n",
        "      ])\n",
        "\n",
        "      self.rating_model = tf.keras.Sequential([\n",
        "          tf.keras.layers.Dense(256, activation=\"relu\"),\n",
        "          tf.keras.layers.Dense(128, activation=\"relu\"),\n",
        "          tf.keras.layers.Dense(1),\n",
        "      ])\n",
        "\n",
        "      # The tasks.\n",
        "      self.rating_task: tf.keras.layers.Layer = tfrs.tasks.Ranking(\n",
        "          loss=tf.keras.losses.MeanSquaredError(),\n",
        "          metrics=[tf.keras.metrics.RootMeanSquaredError()],\n",
        "      )\n",
        "      self.retrieval_task: tf.keras.layers.Layer = tfrs.tasks.Retrieval(\n",
        "          metrics=tfrs.metrics.FactorizedTopK(\n",
        "              candidates=moviestf.batch(128).map(self.movie_model)\n",
        "          )\n",
        "      )\n",
        "\n",
        "      # The loss weights.\n",
        "      self.rating_weight = rating_weight\n",
        "      self.retrieval_weight = retrieval_weight\n",
        "\n",
        "    def call(self, features: Dict[Text, tf.Tensor]) -> tf.Tensor:\n",
        "\n",
        "      user_embeddings = self.user_model(features[\"user_id\"])\n",
        "      movie_embeddings = self.movie_model(features[\"movie_title\"])\n",
        "\n",
        "      return (\n",
        "          user_embeddings,\n",
        "          movie_embeddings,\n",
        "          self.rating_model(\n",
        "              tf.concat([user_embeddings, movie_embeddings], axis=1)\n",
        "          ),\n",
        "      )\n",
        "\n",
        "    def compute_loss(self, features: Dict[Text, tf.Tensor], training=False) -> tf.Tensor:\n",
        "\n",
        "      ratings = features.pop(\"user_rating\")\n",
        "\n",
        "      user_embeddings, movie_embeddings, rating_predictions = self(features)\n",
        "\n",
        "      # We compute the loss for each task.\n",
        "      rating_loss = self.rating_task(\n",
        "          labels=ratings,\n",
        "          predictions=rating_predictions,\n",
        "      )\n",
        "      retrieval_loss = self.retrieval_task(user_embeddings, movie_embeddings)\n",
        "\n",
        "      # And combine them using the loss weights.\n",
        "      return (self.rating_weight * rating_loss\n",
        "              + self.retrieval_weight * retrieval_loss)\n",
        "    \n",
        "  model = MovielensModel(rating_weight=1.0, retrieval_weight=1.0)\n",
        "  model.compile(optimizer=tf.keras.optimizers.Adagrad(0.1))\n",
        "  history = model.fit(cached_train, epochs=3)\n",
        "  # tf.saved_model.save(model, output_model.path)\n",
        "  # tf.keras.models.save_model(model,output_model.path)\n",
        "  # model.save(output_model.path)\n",
        "  # with open(output_history.path, \"wb\") as file:\n",
        "  #   pickle.dump(history.history, file)\n",
        "    \n",
        "  metrics = model.evaluate(cached_test, return_dict=True)\n",
        "  with open(output_metrics.path, \"wb\") as file:\n",
        "    pickle.dump(metrics, file)\n",
        "\n",
        "  print(f\"Retrieval top-100 accuracy: {metrics['factorized_top_k/top_100_categorical_accuracy']:.3f}.\")\n",
        "  print(f\"Ranking RMSE: {metrics['root_mean_squared_error']:.3f}.\")\n",
        "  # model.save(output_model.path)\n",
        "    \n",
        "  # pickle.dump(history.history, output_history.path)\n"
      ],
      "metadata": {
        "id": "zMx9J03LqF4r"
      },
      "execution_count": null,
      "outputs": []
    },
    {
      "cell_type": "markdown",
      "source": [
        "## **Evaluate model metrics**"
      ],
      "metadata": {
        "id": "B7ecqXYTOkHw"
      }
    },
    {
      "cell_type": "code",
      "source": [
        "@component(\n",
        "    packages_to_install=[\"tensorflow\",\"tensorflow-recommenders\",\"numpy\"],\n",
        "    output_component_file=\"evaluate_model_component.yaml\"\n",
        ")\n",
        "def evaluate_model_metrics(input_metrics: Input[Artifact], \n",
        "                   MLPipeline_Metrics: Output[Metrics]):  \n",
        "  \n",
        "  import pickle\n",
        "\n",
        "  with open(input_metrics.path, \"rb\") as file:\n",
        "      metrics = pickle.load(file)\n",
        "    \n",
        "  # vals = list(history.values())\n",
        "  # print(vals)\n",
        "  MLPipeline_Metrics.log_metric(\"Retrieval top-100 accuracy\", metrics['factorized_top_k/top_100_categorical_accuracy'])\n",
        "  MLPipeline_Metrics.log_metric(\"Ranking RMSE\", metrics['root_mean_squared_error'])"
      ],
      "metadata": {
        "id": "Pepp98hzxqKP"
      },
      "execution_count": null,
      "outputs": []
    },
    {
      "cell_type": "markdown",
      "source": [
        "## **Create pipeline**"
      ],
      "metadata": {
        "id": "ZHdsov4VOxAs"
      }
    },
    {
      "cell_type": "code",
      "source": [
        "@dsl.pipeline(\n",
        "    name=\"kfprec-pipeline\",\n",
        ")\n",
        "def my_pipeline(ratingstf_url:str,moviestf_url:str):\n",
        "    download_data_task = download_data(ratingstf_url=ratingstf_url,moviestf_url=moviestf_url)\n",
        "    split_data_task = split_data(input_ratingstf=download_data_task.outputs['output_ratingstf'], input_moviestf=download_data_task.outputs['output_moviestf'])\n",
        "    build_and_train_model_task = build_and_train_model(input_moviestf=download_data_task.outputs['output_moviestf'],input_train = split_data_task.outputs['output_train'], \n",
        "                                                       input_test = split_data_task.outputs['output_test'],input_movie_titles = split_data_task.outputs['output_uq_movttls'], \n",
        "                                                       input_user_ids = split_data_task.outputs['output_uq_usids'])\n",
        "    # evaluate_model_task = evaluate_model(input_test = split_data_task.outputs['output_test'],input_model= build_and_train_model_task.outputs['output_model'], \n",
        "    #                                      input_history = build_and_train_model_task.outputs['output_history'])\n",
        "    evaluate_model_task = evaluate_model_metrics(input_metrics = build_and_train_model_task.outputs['output_metrics'])"
      ],
      "metadata": {
        "id": "64YtK7LsAV8W"
      },
      "execution_count": null,
      "outputs": []
    },
    {
      "cell_type": "markdown",
      "source": [
        "## **Compile pipeline**"
      ],
      "metadata": {
        "id": "nviTM76jO3eP"
      }
    },
    {
      "cell_type": "code",
      "source": [
        "kfp.compiler.Compiler(mode=kfp.dsl.PipelineExecutionMode.V2_COMPATIBLE).compile(\n",
        "    pipeline_func=my_pipeline,\n",
        "    package_path='pipeline.yaml')"
      ],
      "metadata": {
        "colab": {
          "base_uri": "https://localhost:8080/"
        },
        "id": "WYlZssHJNN07",
        "outputId": "d929fcf8-3dde-498e-f85e-2babad89ffb3"
      },
      "execution_count": null,
      "outputs": [
        {
          "output_type": "stream",
          "name": "stderr",
          "text": [
            "/usr/local/lib/python3.7/dist-packages/kfp/compiler/compiler.py:79: UserWarning: V2_COMPATIBLE execution mode is at Beta quality. Some pipeline features may not work as expected.\n",
            "  warnings.warn('V2_COMPATIBLE execution mode is at Beta quality.'\n"
          ]
        }
      ]
    },
    {
      "cell_type": "markdown",
      "source": [
        "## **Pipeline run (visualization)**"
      ],
      "metadata": {
        "id": "Ig2VVMm0UMeT"
      }
    },
    {
      "cell_type": "markdown",
      "source": [
        "![image.png](data:image/png;base64,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)"
      ],
      "metadata": {
        "id": "W8HM2syiUQ5u"
      }
    }
  ]
}